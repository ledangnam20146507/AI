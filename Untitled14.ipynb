{
  "nbformat": 4,
  "nbformat_minor": 0,
  "metadata": {
    "colab": {
      "provenance": [],
      "authorship_tag": "ABX9TyMXmrFO3GiatPfWm9PVN2U7",
      "include_colab_link": true
    },
    "kernelspec": {
      "name": "python3",
      "display_name": "Python 3"
    },
    "language_info": {
      "name": "python"
    }
  },
  "cells": [
    {
      "cell_type": "markdown",
      "metadata": {
        "id": "view-in-github",
        "colab_type": "text"
      },
      "source": [
        "<a href=\"https://colab.research.google.com/github/ledangnam20146507/AI/blob/main/Untitled14.ipynb\" target=\"_parent\"><img src=\"https://colab.research.google.com/assets/colab-badge.svg\" alt=\"Open In Colab\"/></a>"
      ]
    },
    {
      "cell_type": "code",
      "execution_count": 38,
      "metadata": {
        "id": "NAATK6uWoLZH"
      },
      "outputs": [],
      "source": [
        "from os import listdir\n",
        "import random\n",
        "import numpy as np\n",
        "import matplotlib.pyplot as plt\n",
        "from keras.utils import to_categorical, load_img, img_to_array\n",
        "from numpy import asarray, save"
      ]
    },
    {
      "cell_type": "code",
      "source": [
        "from os import listdir\n",
        "import numpy as np\n",
        "from tensorflow.keras.preprocessing.image import load_img, img_to_array\n",
        "\n",
        "from google.colab import drive\n",
        "drive.mount('/content/drive')\n",
        "\n",
        "folder = '/content/drive/MyDrive/DA AI'\n",
        "\n",
        "photos, labels = list(), list()\n",
        "\n",
        "for file in listdir(folder):\n",
        "    # Skip directories\n",
        "    if not file.endswith('.jpg') and not file.endswith('.jpeg') and not file.endswith('.png'):\n",
        "        continue\n",
        "\n",
        "    output = 0.0\n",
        "    if file.startswith('angry'):\n",
        "        output = 1.0\n",
        "    elif file.startswith('disgust'):\n",
        "        output = 2.0\n",
        "    elif file.startswith('fear'):\n",
        "        output = 3.0\n",
        "    elif file.startswith('happy'):\n",
        "        output = 4.0\n",
        "    elif file.startswith('sad'):\n",
        "        output = 5.0\n",
        "    photo = load_img(folder + '/' + file, target_size=(100, 100))\n",
        "    photo = img_to_array(photo)\n",
        "    photos.append(photo)\n",
        "    labels.append(output)\n",
        "\n",
        "photos = np.asarray(photos)\n",
        "labels = np.asarray(labels)\n",
        "\n",
        "np.save('/content/drive/MyDrive/Colab Notebooks/photo1_motion.npy', photos)\n",
        "np.save('/content/drive/MyDrive/Colab Notebooks/label1_motion.npy', labels)\n",
        "\n",
        "print(photos.shape)\n",
        "print(labels.shape)\n",
        "\n"
      ],
      "metadata": {
        "colab": {
          "base_uri": "https://localhost:8080/"
        },
        "id": "H0LPy0Zoo-iY",
        "outputId": "ffe7e2e6-7199-4f11-9546-47cb36a1011a"
      },
      "execution_count": 39,
      "outputs": [
        {
          "output_type": "stream",
          "name": "stdout",
          "text": [
            "Drive already mounted at /content/drive; to attempt to forcibly remount, call drive.mount(\"/content/drive\", force_remount=True).\n",
            "(638, 100, 100, 3)\n",
            "(638,)\n"
          ]
        }
      ]
    },
    {
      "cell_type": "code",
      "source": [
        "from sklearn.model_selection import train_test_split\n",
        "\n",
        "train_x, test_x, train_y,  test_y = train_test_split(photos,labels, test_size=0.3, train_size=0.7)"
      ],
      "metadata": {
        "id": "DPSYzmksp7sp"
      },
      "execution_count": 40,
      "outputs": []
    },
    {
      "cell_type": "code",
      "source": [
        "train_x.shape"
      ],
      "metadata": {
        "colab": {
          "base_uri": "https://localhost:8080/"
        },
        "id": "c2TVCsWXp-gA",
        "outputId": "07df3283-2288-42a7-9df3-50fd4780d4b3"
      },
      "execution_count": 41,
      "outputs": [
        {
          "output_type": "execute_result",
          "data": {
            "text/plain": [
              "(446, 100, 100, 3)"
            ]
          },
          "metadata": {},
          "execution_count": 41
        }
      ]
    },
    {
      "cell_type": "code",
      "source": [
        "test_x.shape"
      ],
      "metadata": {
        "colab": {
          "base_uri": "https://localhost:8080/"
        },
        "id": "TVJmVU67qAv3",
        "outputId": "b3914c38-4f8a-4d70-94ea-13ba83073b79"
      },
      "execution_count": 42,
      "outputs": [
        {
          "output_type": "execute_result",
          "data": {
            "text/plain": [
              "(192, 100, 100, 3)"
            ]
          },
          "metadata": {},
          "execution_count": 42
        }
      ]
    },
    {
      "cell_type": "code",
      "source": [
        "train_x = train_x.reshape(446,100,100,3)\n",
        "test_x = test_x.reshape(192,100,100,3)\n",
        "train_x = train_x.astype('float32')/255"
      ],
      "metadata": {
        "id": "RbTVjbQLqC5X"
      },
      "execution_count": 43,
      "outputs": []
    },
    {
      "cell_type": "code",
      "source": [
        "from keras.utils import to_categorical\n",
        "y_train = to_categorical(train_y)\n",
        "y_test = to_categorical(test_y)"
      ],
      "metadata": {
        "id": "fz40XaE4qE-n"
      },
      "execution_count": 44,
      "outputs": []
    },
    {
      "cell_type": "code",
      "source": [
        "from keras import Sequential,Model,Input\n",
        "from keras.layers import Dense,Flatten,Dropout, Conv2D, MaxPooling2D,Normalization\n",
        "from keras.optimizers import Adam\n",
        "\n",
        "batch_size = 100\n",
        "epochs = 20\n",
        "classes = 6"
      ],
      "metadata": {
        "id": "7kfWDc3cqHSx"
      },
      "execution_count": 45,
      "outputs": []
    },
    {
      "cell_type": "code",
      "source": [
        "model = Sequential()\n",
        "model.add(Conv2D(32,kernel_size=(3,3),activation='linear',input_shape=(100,100,3),padding='same'))\n",
        "\n",
        "from keras.layers import LeakyReLU\n",
        "model.add(LeakyReLU(alpha=0.1))\n",
        "model.add(MaxPooling2D((2,2),padding='same'))\n",
        "\n",
        "model.add(Conv2D(64,(3,3),activation='linear',padding='same'))\n",
        "model.add(LeakyReLU(alpha=0.1))\n",
        "model.add(MaxPooling2D((2,2),padding='same'))\n",
        "\n",
        "model.add(Conv2D(128,(3,3),activation='linear',padding='same'))\n",
        "model.add(LeakyReLU(alpha=0.1))\n",
        "model.add(MaxPooling2D((2,2),padding='same'))\n",
        "\n",
        "model.add(Flatten())\n",
        "\n",
        "model.add(Dense(700,activation='linear'))\n",
        "model.add(Dropout(0.5))\n",
        "model.add(Dense(classes,activation='softmax'))\n",
        "\n",
        "\n",
        "model.summary()"
      ],
      "metadata": {
        "colab": {
          "base_uri": "https://localhost:8080/"
        },
        "id": "P14O9fIUqJZY",
        "outputId": "16e9e4f7-55cd-4a4e-eb17-70b04e4f1155"
      },
      "execution_count": 46,
      "outputs": [
        {
          "output_type": "stream",
          "name": "stdout",
          "text": [
            "Model: \"sequential_1\"\n",
            "_________________________________________________________________\n",
            " Layer (type)                Output Shape              Param #   \n",
            "=================================================================\n",
            " conv2d_3 (Conv2D)           (None, 100, 100, 32)      896       \n",
            "                                                                 \n",
            " leaky_re_lu_3 (LeakyReLU)   (None, 100, 100, 32)      0         \n",
            "                                                                 \n",
            " max_pooling2d_3 (MaxPooling  (None, 50, 50, 32)       0         \n",
            " 2D)                                                             \n",
            "                                                                 \n",
            " conv2d_4 (Conv2D)           (None, 50, 50, 64)        18496     \n",
            "                                                                 \n",
            " leaky_re_lu_4 (LeakyReLU)   (None, 50, 50, 64)        0         \n",
            "                                                                 \n",
            " max_pooling2d_4 (MaxPooling  (None, 25, 25, 64)       0         \n",
            " 2D)                                                             \n",
            "                                                                 \n",
            " conv2d_5 (Conv2D)           (None, 25, 25, 128)       73856     \n",
            "                                                                 \n",
            " leaky_re_lu_5 (LeakyReLU)   (None, 25, 25, 128)       0         \n",
            "                                                                 \n",
            " max_pooling2d_5 (MaxPooling  (None, 13, 13, 128)      0         \n",
            " 2D)                                                             \n",
            "                                                                 \n",
            " flatten_1 (Flatten)         (None, 21632)             0         \n",
            "                                                                 \n",
            " dense_2 (Dense)             (None, 700)               15143100  \n",
            "                                                                 \n",
            " dropout_1 (Dropout)         (None, 700)               0         \n",
            "                                                                 \n",
            " dense_3 (Dense)             (None, 6)                 4206      \n",
            "                                                                 \n",
            "=================================================================\n",
            "Total params: 15,240,554\n",
            "Trainable params: 15,240,554\n",
            "Non-trainable params: 0\n",
            "_________________________________________________________________\n"
          ]
        }
      ]
    },
    {
      "cell_type": "code",
      "source": [
        "from keras.backend import categorical_crossentropy\n",
        "\n",
        "model.compile(loss= categorical_crossentropy,optimizer= Adam(),metrics=['accuracy'])\n",
        "\n",
        "a = model.fit(train_x, y_train, epochs=20)\n",
        "\n"
      ],
      "metadata": {
        "colab": {
          "base_uri": "https://localhost:8080/"
        },
        "id": "Bt6fc6wNqMDg",
        "outputId": "0577cec1-1f43-459b-8a50-993a89ec6784"
      },
      "execution_count": 47,
      "outputs": [
        {
          "output_type": "stream",
          "name": "stdout",
          "text": [
            "Epoch 1/20\n",
            "14/14 [==============================] - 16s 1s/step - loss: 2.6426 - accuracy: 0.2489\n",
            "Epoch 2/20\n",
            "14/14 [==============================] - 14s 1s/step - loss: 1.4305 - accuracy: 0.3857\n",
            "Epoch 3/20\n",
            "14/14 [==============================] - 14s 1s/step - loss: 1.2546 - accuracy: 0.4821\n",
            "Epoch 4/20\n",
            "14/14 [==============================] - 14s 1s/step - loss: 1.1898 - accuracy: 0.5516\n",
            "Epoch 5/20\n",
            "14/14 [==============================] - 14s 1s/step - loss: 1.0362 - accuracy: 0.5785\n",
            "Epoch 6/20\n",
            "14/14 [==============================] - 14s 1s/step - loss: 0.9406 - accuracy: 0.6211\n",
            "Epoch 7/20\n",
            "14/14 [==============================] - 14s 1s/step - loss: 0.8304 - accuracy: 0.6771\n",
            "Epoch 8/20\n",
            "14/14 [==============================] - 14s 1s/step - loss: 0.7314 - accuracy: 0.7175\n",
            "Epoch 9/20\n",
            "14/14 [==============================] - 14s 1s/step - loss: 0.5778 - accuracy: 0.7780\n",
            "Epoch 10/20\n",
            "14/14 [==============================] - 14s 1s/step - loss: 0.4467 - accuracy: 0.8274\n",
            "Epoch 11/20\n",
            "14/14 [==============================] - 14s 1s/step - loss: 0.3121 - accuracy: 0.8991\n",
            "Epoch 12/20\n",
            "14/14 [==============================] - 14s 990ms/step - loss: 0.3018 - accuracy: 0.9036\n",
            "Epoch 13/20\n",
            "14/14 [==============================] - 14s 1s/step - loss: 0.2533 - accuracy: 0.8991\n",
            "Epoch 14/20\n",
            "14/14 [==============================] - 14s 1s/step - loss: 0.2068 - accuracy: 0.9439\n",
            "Epoch 15/20\n",
            "14/14 [==============================] - 14s 1s/step - loss: 0.1426 - accuracy: 0.9596\n",
            "Epoch 16/20\n",
            "14/14 [==============================] - 14s 1s/step - loss: 0.0998 - accuracy: 0.9596\n",
            "Epoch 17/20\n",
            "14/14 [==============================] - 14s 1s/step - loss: 0.1091 - accuracy: 0.9641\n",
            "Epoch 18/20\n",
            "14/14 [==============================] - 14s 998ms/step - loss: 0.0888 - accuracy: 0.9798\n",
            "Epoch 19/20\n",
            "14/14 [==============================] - 14s 1s/step - loss: 0.0691 - accuracy: 0.9776\n",
            "Epoch 20/20\n",
            "14/14 [==============================] - 14s 1s/step - loss: 0.0730 - accuracy: 0.9798\n"
          ]
        }
      ]
    },
    {
      "cell_type": "code",
      "source": [
        "from tensorflow.keras.preprocessing import image\n",
        "import matplotlib.pyplot as plt\n",
        "import numpy as np\n",
        "from google.colab import files\n",
        "\n",
        "uploaded = files.upload()\n",
        "\n",
        "img_path = list(uploaded.keys())[0]\n",
        "img = image.load_img(img_path, target_size=(100, 100))\n",
        "plt.imshow(img)\n",
        "img = image.img_to_array(img)\n",
        "img = img.reshape(1, 100, 100, 3)\n",
        "img = img.astype('float32')\n",
        "img = img / 255.0\n",
        "a = np.argmax(model.predict(img), axis=-1)\n",
        "\n",
        "print(a)\n",
        "if a == 1:\n",
        "    print(\"Tức giận\")\n",
        "if a == 2:\n",
        "    print(\"Ghê tởm\")\n",
        "if a == 3:\n",
        "    print(\"Sợ hãi\")\n",
        "if a == 4:\n",
        "    print(\"Vui mừng\")\n",
        "if a == 5:\n",
        "    print(\"Buồn\")\n"
      ],
      "metadata": {
        "colab": {
          "base_uri": "https://localhost:8080/",
          "height": 541
        },
        "id": "sEXyoWct2HaP",
        "outputId": "305a86f7-284c-4b53-f5b7-294239037137"
      },
      "execution_count": 48,
      "outputs": [
        {
          "output_type": "display_data",
          "data": {
            "text/plain": [
              "<IPython.core.display.HTML object>"
            ],
            "text/html": [
              "\n",
              "     <input type=\"file\" id=\"files-2d5be246-1c42-4ca3-a63e-883bf071d5eb\" name=\"files[]\" multiple disabled\n",
              "        style=\"border:none\" />\n",
              "     <output id=\"result-2d5be246-1c42-4ca3-a63e-883bf071d5eb\">\n",
              "      Upload widget is only available when the cell has been executed in the\n",
              "      current browser session. Please rerun this cell to enable.\n",
              "      </output>\n",
              "      <script>// Copyright 2017 Google LLC\n",
              "//\n",
              "// Licensed under the Apache License, Version 2.0 (the \"License\");\n",
              "// you may not use this file except in compliance with the License.\n",
              "// You may obtain a copy of the License at\n",
              "//\n",
              "//      http://www.apache.org/licenses/LICENSE-2.0\n",
              "//\n",
              "// Unless required by applicable law or agreed to in writing, software\n",
              "// distributed under the License is distributed on an \"AS IS\" BASIS,\n",
              "// WITHOUT WARRANTIES OR CONDITIONS OF ANY KIND, either express or implied.\n",
              "// See the License for the specific language governing permissions and\n",
              "// limitations under the License.\n",
              "\n",
              "/**\n",
              " * @fileoverview Helpers for google.colab Python module.\n",
              " */\n",
              "(function(scope) {\n",
              "function span(text, styleAttributes = {}) {\n",
              "  const element = document.createElement('span');\n",
              "  element.textContent = text;\n",
              "  for (const key of Object.keys(styleAttributes)) {\n",
              "    element.style[key] = styleAttributes[key];\n",
              "  }\n",
              "  return element;\n",
              "}\n",
              "\n",
              "// Max number of bytes which will be uploaded at a time.\n",
              "const MAX_PAYLOAD_SIZE = 100 * 1024;\n",
              "\n",
              "function _uploadFiles(inputId, outputId) {\n",
              "  const steps = uploadFilesStep(inputId, outputId);\n",
              "  const outputElement = document.getElementById(outputId);\n",
              "  // Cache steps on the outputElement to make it available for the next call\n",
              "  // to uploadFilesContinue from Python.\n",
              "  outputElement.steps = steps;\n",
              "\n",
              "  return _uploadFilesContinue(outputId);\n",
              "}\n",
              "\n",
              "// This is roughly an async generator (not supported in the browser yet),\n",
              "// where there are multiple asynchronous steps and the Python side is going\n",
              "// to poll for completion of each step.\n",
              "// This uses a Promise to block the python side on completion of each step,\n",
              "// then passes the result of the previous step as the input to the next step.\n",
              "function _uploadFilesContinue(outputId) {\n",
              "  const outputElement = document.getElementById(outputId);\n",
              "  const steps = outputElement.steps;\n",
              "\n",
              "  const next = steps.next(outputElement.lastPromiseValue);\n",
              "  return Promise.resolve(next.value.promise).then((value) => {\n",
              "    // Cache the last promise value to make it available to the next\n",
              "    // step of the generator.\n",
              "    outputElement.lastPromiseValue = value;\n",
              "    return next.value.response;\n",
              "  });\n",
              "}\n",
              "\n",
              "/**\n",
              " * Generator function which is called between each async step of the upload\n",
              " * process.\n",
              " * @param {string} inputId Element ID of the input file picker element.\n",
              " * @param {string} outputId Element ID of the output display.\n",
              " * @return {!Iterable<!Object>} Iterable of next steps.\n",
              " */\n",
              "function* uploadFilesStep(inputId, outputId) {\n",
              "  const inputElement = document.getElementById(inputId);\n",
              "  inputElement.disabled = false;\n",
              "\n",
              "  const outputElement = document.getElementById(outputId);\n",
              "  outputElement.innerHTML = '';\n",
              "\n",
              "  const pickedPromise = new Promise((resolve) => {\n",
              "    inputElement.addEventListener('change', (e) => {\n",
              "      resolve(e.target.files);\n",
              "    });\n",
              "  });\n",
              "\n",
              "  const cancel = document.createElement('button');\n",
              "  inputElement.parentElement.appendChild(cancel);\n",
              "  cancel.textContent = 'Cancel upload';\n",
              "  const cancelPromise = new Promise((resolve) => {\n",
              "    cancel.onclick = () => {\n",
              "      resolve(null);\n",
              "    };\n",
              "  });\n",
              "\n",
              "  // Wait for the user to pick the files.\n",
              "  const files = yield {\n",
              "    promise: Promise.race([pickedPromise, cancelPromise]),\n",
              "    response: {\n",
              "      action: 'starting',\n",
              "    }\n",
              "  };\n",
              "\n",
              "  cancel.remove();\n",
              "\n",
              "  // Disable the input element since further picks are not allowed.\n",
              "  inputElement.disabled = true;\n",
              "\n",
              "  if (!files) {\n",
              "    return {\n",
              "      response: {\n",
              "        action: 'complete',\n",
              "      }\n",
              "    };\n",
              "  }\n",
              "\n",
              "  for (const file of files) {\n",
              "    const li = document.createElement('li');\n",
              "    li.append(span(file.name, {fontWeight: 'bold'}));\n",
              "    li.append(span(\n",
              "        `(${file.type || 'n/a'}) - ${file.size} bytes, ` +\n",
              "        `last modified: ${\n",
              "            file.lastModifiedDate ? file.lastModifiedDate.toLocaleDateString() :\n",
              "                                    'n/a'} - `));\n",
              "    const percent = span('0% done');\n",
              "    li.appendChild(percent);\n",
              "\n",
              "    outputElement.appendChild(li);\n",
              "\n",
              "    const fileDataPromise = new Promise((resolve) => {\n",
              "      const reader = new FileReader();\n",
              "      reader.onload = (e) => {\n",
              "        resolve(e.target.result);\n",
              "      };\n",
              "      reader.readAsArrayBuffer(file);\n",
              "    });\n",
              "    // Wait for the data to be ready.\n",
              "    let fileData = yield {\n",
              "      promise: fileDataPromise,\n",
              "      response: {\n",
              "        action: 'continue',\n",
              "      }\n",
              "    };\n",
              "\n",
              "    // Use a chunked sending to avoid message size limits. See b/62115660.\n",
              "    let position = 0;\n",
              "    do {\n",
              "      const length = Math.min(fileData.byteLength - position, MAX_PAYLOAD_SIZE);\n",
              "      const chunk = new Uint8Array(fileData, position, length);\n",
              "      position += length;\n",
              "\n",
              "      const base64 = btoa(String.fromCharCode.apply(null, chunk));\n",
              "      yield {\n",
              "        response: {\n",
              "          action: 'append',\n",
              "          file: file.name,\n",
              "          data: base64,\n",
              "        },\n",
              "      };\n",
              "\n",
              "      let percentDone = fileData.byteLength === 0 ?\n",
              "          100 :\n",
              "          Math.round((position / fileData.byteLength) * 100);\n",
              "      percent.textContent = `${percentDone}% done`;\n",
              "\n",
              "    } while (position < fileData.byteLength);\n",
              "  }\n",
              "\n",
              "  // All done.\n",
              "  yield {\n",
              "    response: {\n",
              "      action: 'complete',\n",
              "    }\n",
              "  };\n",
              "}\n",
              "\n",
              "scope.google = scope.google || {};\n",
              "scope.google.colab = scope.google.colab || {};\n",
              "scope.google.colab._files = {\n",
              "  _uploadFiles,\n",
              "  _uploadFilesContinue,\n",
              "};\n",
              "})(self);\n",
              "</script> "
            ]
          },
          "metadata": {}
        },
        {
          "output_type": "stream",
          "name": "stdout",
          "text": [
            "Saving happy017.jpg to happy017.jpg\n",
            "1/1 [==============================] - 0s 129ms/step\n",
            "[4]\n",
            "Vui mừng\n"
          ]
        },
        {
          "output_type": "display_data",
          "data": {
            "text/plain": [
              "<Figure size 640x480 with 1 Axes>"
            ],
            "image/png": "[encoded data removed]"
          },
          "metadata": {}
        }
      ]
    },
    {
      "cell_type": "code",
      "source": [],
      "metadata": {
        "id": "6QSsRzjsw9ZV"
      },
      "execution_count": 48,
      "outputs": []
    },
    {
      "cell_type": "code",
      "source": [
        "y_train.shape"
      ],
      "metadata": {
        "colab": {
          "base_uri": "https://localhost:8080/"
        },
        "id": "pTDC1_csuK0B",
        "outputId": "22d1133e-8241-4e99-ae36-81ca99b25a1a"
      },
      "execution_count": 49,
      "outputs": [
        {
          "output_type": "execute_result",
          "data": {
            "text/plain": [
              "(446, 6)"
            ]
          },
          "metadata": {},
          "execution_count": 49
        }
      ]
    },
    {
      "cell_type": "code",
      "source": [
        "model.save('model.h5')"
      ],
      "metadata": {
        "id": "244brb8O5I1-"
      },
      "execution_count": 51,
      "outputs": []
    }
  ]
}